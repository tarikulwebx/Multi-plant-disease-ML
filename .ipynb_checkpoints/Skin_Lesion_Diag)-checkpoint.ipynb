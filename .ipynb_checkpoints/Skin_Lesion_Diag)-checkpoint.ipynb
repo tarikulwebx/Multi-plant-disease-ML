{
 "cells": [
  {
   "cell_type": "markdown",
   "metadata": {
    "id": "UoMl0w9cR2iZ"
   },
   "source": [
    "***Library Imports***"
   ]
  },
  {
   "cell_type": "code",
   "execution_count": 1,
   "metadata": {
    "id": "OFO36zoBRMhh"
   },
   "outputs": [],
   "source": [
    "import numpy as np\n",
    "import os\n",
    "import tensorflow as tf\n",
    "import keras\n",
    "from tensorflow import keras\n",
    "from keras.preprocessing.image import ImageDataGenerator\n",
    "from keras import backend as K\n",
    "from keras.layers.core import Dense, Activation\n",
    "from keras.metrics import categorical_crossentropy\n",
    "from keras.preprocessing.image import ImageDataGenerator\n",
    "from keras.preprocessing import image\n",
    "from keras.models import Model\n",
    "from keras.applications import imagenet_utils\n",
    "from keras.layers import Dense,GlobalAveragePooling2D\n",
    "from tensorflow.keras.applications.mobilenet import MobileNet\n",
    "from keras.applications.mobilenet import preprocess_input\n",
    "import numpy as np\n",
    "from IPython.display import Image\n",
    "from tensorflow.keras.optimizers import Adam\n",
    "import tensorboard\n",
    "from datetime import datetime\n",
    "from packaging import version\n",
    "\n"
   ]
  },
  {
   "cell_type": "markdown",
   "metadata": {
    "id": "HxYIQjyBau-m"
   },
   "source": [
    "***Dataset Location***"
   ]
  },
  {
   "cell_type": "code",
   "execution_count": 2,
   "metadata": {
    "id": "wKtTUcoga_wl"
   },
   "outputs": [],
   "source": [
    "base_dir='/content/drive/MyDrive/Project/Dataset'\n",
    "train_dir=base_dir+'/train_dir'\n",
    "val_dir=base_dir+'/val_dir'\n",
    "test_dir=base_dir+'/test_dir'"
   ]
  },
  {
   "cell_type": "code",
   "execution_count": 3,
   "metadata": {
    "id": "Y7tnLFYHqUAf"
   },
   "outputs": [],
   "source": [
    "train_batch_size=32\n",
    "image_size=224"
   ]
  },
  {
   "cell_type": "markdown",
   "metadata": {
    "id": "kbZUIi7MdbEY"
   },
   "source": [
    "***Data Preprocessing***"
   ]
  },
  {
   "cell_type": "code",
   "execution_count": 4,
   "metadata": {
    "id": "51p7HbCkblBO"
   },
   "outputs": [],
   "source": [
    "datagen=ImageDataGenerator(preprocessing_function=preprocess_input)"
   ]
  },
  {
   "cell_type": "code",
   "execution_count": 5,
   "metadata": {
    "colab": {
     "base_uri": "https://localhost:8080/"
    },
    "id": "RvC9Wa6iomhy",
    "outputId": "47169e18-cb2c-4664-c353-8d7e688e6138"
   },
   "outputs": [
    {
     "name": "stdout",
     "output_type": "stream",
     "text": [
      "Found 6409 images belonging to 7 classes.\n"
     ]
    }
   ],
   "source": [
    "train_batches = datagen.flow_from_directory(\n",
    "    train_dir,\n",
    "    target_size=(image_size,image_size),\n",
    "    color_mode='rgb',\n",
    "    class_mode='categorical',\n",
    "    batch_size=train_batch_size\n",
    ")"
   ]
  },
  {
   "cell_type": "code",
   "execution_count": 6,
   "metadata": {
    "colab": {
     "base_uri": "https://localhost:8080/"
    },
    "id": "JQ01ND5XsnYY",
    "outputId": "2a777938-09ce-4d31-9a88-3be8b50d1011"
   },
   "outputs": [
    {
     "data": {
      "text/plain": [
       "array([0, 0, 0, ..., 6, 6, 6], dtype=int32)"
      ]
     },
     "execution_count": 6,
     "metadata": {},
     "output_type": "execute_result"
    }
   ],
   "source": [
    "train_batches.classes"
   ]
  },
  {
   "cell_type": "code",
   "execution_count": null,
   "metadata": {
    "colab": {
     "base_uri": "https://localhost:8080/"
    },
    "id": "MlWxwPTvrS52",
    "outputId": "ea5dc529-0e5f-4c91-b12d-8a46083d8b8a"
   },
   "outputs": [
    {
     "name": "stdout",
     "output_type": "stream",
     "text": [
      "Found 1603 images belonging to 7 classes.\n"
     ]
    }
   ],
   "source": [
    "valid_batches = datagen.flow_from_directory(\n",
    "    val_dir,\n",
    "    target_size=(image_size,image_size),\n",
    "    color_mode='rgb',\n",
    "    class_mode='categorical',\n",
    "    batch_size=train_batch_size\n",
    ")"
   ]
  },
  {
   "cell_type": "code",
   "execution_count": null,
   "metadata": {
    "colab": {
     "base_uri": "https://localhost:8080/"
    },
    "id": "qNS006QSrep5",
    "outputId": "885f233b-fcdd-466b-a4d4-b3dd09dc8c48"
   },
   "outputs": [
    {
     "name": "stdout",
     "output_type": "stream",
     "text": [
      "Found 2003 images belonging to 7 classes.\n"
     ]
    }
   ],
   "source": [
    "test_batches = datagen.flow_from_directory(\n",
    "    test_dir,\n",
    "    target_size=(image_size,image_size),\n",
    "    color_mode='rgb',\n",
    "    class_mode='categorical',\n",
    "    batch_size=train_batch_size\n",
    ")"
   ]
  },
  {
   "cell_type": "markdown",
   "metadata": {
    "id": "NQBoXdzLDg6e"
   },
   "source": [
    "***Load Model***"
   ]
  },
  {
   "cell_type": "code",
   "execution_count": null,
   "metadata": {
    "colab": {
     "base_uri": "https://localhost:8080/"
    },
    "id": "uASeZkRD7c3h",
    "outputId": "4d68ae6c-5153-4193-c638-1c6c04e0ae94"
   },
   "outputs": [
    {
     "name": "stdout",
     "output_type": "stream",
     "text": [
      "Downloading data from https://storage.googleapis.com/tensorflow/keras-applications/mobilenet/mobilenet_1_0_224_tf_no_top.h5\n",
      "17227776/17225924 [==============================] - 0s 0us/step\n",
      "17235968/17225924 [==============================] - 0s 0us/step\n"
     ]
    }
   ],
   "source": [
    "base_model=MobileNet(weights='imagenet',include_top=False,input_shape=[224,224,3]) #imports the mobilenet model and discards the last 1000 neuron layer.\n",
    "\n",
    "x=base_model.output\n",
    "x=GlobalAveragePooling2D()(x)\n",
    "x=Dense(1024,activation='relu')(x) #we add dense layers so that the model can learn more complex functions and classify for better results.\n",
    "x=Dense(1024,activation='relu')(x) #dense layer 2\n",
    "x=Dense(512,activation='relu')(x) #dense layer 3\n",
    "preds=Dense(7,activation='softmax')(x) #final layer with softmax activation"
   ]
  },
  {
   "cell_type": "code",
   "execution_count": null,
   "metadata": {
    "id": "ECMZ0FTHD65-"
   },
   "outputs": [],
   "source": [
    "model=Model(inputs=base_model.input,outputs=preds)"
   ]
  },
  {
   "cell_type": "code",
   "execution_count": null,
   "metadata": {
    "colab": {
     "base_uri": "https://localhost:8080/"
    },
    "id": "xrS90G-57hWF",
    "outputId": "60c10d93-b477-435f-def6-c051b867ff40"
   },
   "outputs": [
    {
     "name": "stdout",
     "output_type": "stream",
     "text": [
      "Model: \"model\"\n",
      "_________________________________________________________________\n",
      " Layer (type)                Output Shape              Param #   \n",
      "=================================================================\n",
      " input_1 (InputLayer)        [(None, 224, 224, 3)]     0         \n",
      "                                                                 \n",
      " conv1 (Conv2D)              (None, 112, 112, 32)      864       \n",
      "                                                                 \n",
      " conv1_bn (BatchNormalizatio  (None, 112, 112, 32)     128       \n",
      " n)                                                              \n",
      "                                                                 \n",
      " conv1_relu (ReLU)           (None, 112, 112, 32)      0         \n",
      "                                                                 \n",
      " conv_dw_1 (DepthwiseConv2D)  (None, 112, 112, 32)     288       \n",
      "                                                                 \n",
      " conv_dw_1_bn (BatchNormaliz  (None, 112, 112, 32)     128       \n",
      " ation)                                                          \n",
      "                                                                 \n",
      " conv_dw_1_relu (ReLU)       (None, 112, 112, 32)      0         \n",
      "                                                                 \n",
      " conv_pw_1 (Conv2D)          (None, 112, 112, 64)      2048      \n",
      "                                                                 \n",
      " conv_pw_1_bn (BatchNormaliz  (None, 112, 112, 64)     256       \n",
      " ation)                                                          \n",
      "                                                                 \n",
      " conv_pw_1_relu (ReLU)       (None, 112, 112, 64)      0         \n",
      "                                                                 \n",
      " conv_pad_2 (ZeroPadding2D)  (None, 113, 113, 64)      0         \n",
      "                                                                 \n",
      " conv_dw_2 (DepthwiseConv2D)  (None, 56, 56, 64)       576       \n",
      "                                                                 \n",
      " conv_dw_2_bn (BatchNormaliz  (None, 56, 56, 64)       256       \n",
      " ation)                                                          \n",
      "                                                                 \n",
      " conv_dw_2_relu (ReLU)       (None, 56, 56, 64)        0         \n",
      "                                                                 \n",
      " conv_pw_2 (Conv2D)          (None, 56, 56, 128)       8192      \n",
      "                                                                 \n",
      " conv_pw_2_bn (BatchNormaliz  (None, 56, 56, 128)      512       \n",
      " ation)                                                          \n",
      "                                                                 \n",
      " conv_pw_2_relu (ReLU)       (None, 56, 56, 128)       0         \n",
      "                                                                 \n",
      " conv_dw_3 (DepthwiseConv2D)  (None, 56, 56, 128)      1152      \n",
      "                                                                 \n",
      " conv_dw_3_bn (BatchNormaliz  (None, 56, 56, 128)      512       \n",
      " ation)                                                          \n",
      "                                                                 \n",
      " conv_dw_3_relu (ReLU)       (None, 56, 56, 128)       0         \n",
      "                                                                 \n",
      " conv_pw_3 (Conv2D)          (None, 56, 56, 128)       16384     \n",
      "                                                                 \n",
      " conv_pw_3_bn (BatchNormaliz  (None, 56, 56, 128)      512       \n",
      " ation)                                                          \n",
      "                                                                 \n",
      " conv_pw_3_relu (ReLU)       (None, 56, 56, 128)       0         \n",
      "                                                                 \n",
      " conv_pad_4 (ZeroPadding2D)  (None, 57, 57, 128)       0         \n",
      "                                                                 \n",
      " conv_dw_4 (DepthwiseConv2D)  (None, 28, 28, 128)      1152      \n",
      "                                                                 \n",
      " conv_dw_4_bn (BatchNormaliz  (None, 28, 28, 128)      512       \n",
      " ation)                                                          \n",
      "                                                                 \n",
      " conv_dw_4_relu (ReLU)       (None, 28, 28, 128)       0         \n",
      "                                                                 \n",
      " conv_pw_4 (Conv2D)          (None, 28, 28, 256)       32768     \n",
      "                                                                 \n",
      " conv_pw_4_bn (BatchNormaliz  (None, 28, 28, 256)      1024      \n",
      " ation)                                                          \n",
      "                                                                 \n",
      " conv_pw_4_relu (ReLU)       (None, 28, 28, 256)       0         \n",
      "                                                                 \n",
      " conv_dw_5 (DepthwiseConv2D)  (None, 28, 28, 256)      2304      \n",
      "                                                                 \n",
      " conv_dw_5_bn (BatchNormaliz  (None, 28, 28, 256)      1024      \n",
      " ation)                                                          \n",
      "                                                                 \n",
      " conv_dw_5_relu (ReLU)       (None, 28, 28, 256)       0         \n",
      "                                                                 \n",
      " conv_pw_5 (Conv2D)          (None, 28, 28, 256)       65536     \n",
      "                                                                 \n",
      " conv_pw_5_bn (BatchNormaliz  (None, 28, 28, 256)      1024      \n",
      " ation)                                                          \n",
      "                                                                 \n",
      " conv_pw_5_relu (ReLU)       (None, 28, 28, 256)       0         \n",
      "                                                                 \n",
      " conv_pad_6 (ZeroPadding2D)  (None, 29, 29, 256)       0         \n",
      "                                                                 \n",
      " conv_dw_6 (DepthwiseConv2D)  (None, 14, 14, 256)      2304      \n",
      "                                                                 \n",
      " conv_dw_6_bn (BatchNormaliz  (None, 14, 14, 256)      1024      \n",
      " ation)                                                          \n",
      "                                                                 \n",
      " conv_dw_6_relu (ReLU)       (None, 14, 14, 256)       0         \n",
      "                                                                 \n",
      " conv_pw_6 (Conv2D)          (None, 14, 14, 512)       131072    \n",
      "                                                                 \n",
      " conv_pw_6_bn (BatchNormaliz  (None, 14, 14, 512)      2048      \n",
      " ation)                                                          \n",
      "                                                                 \n",
      " conv_pw_6_relu (ReLU)       (None, 14, 14, 512)       0         \n",
      "                                                                 \n",
      " conv_dw_7 (DepthwiseConv2D)  (None, 14, 14, 512)      4608      \n",
      "                                                                 \n",
      " conv_dw_7_bn (BatchNormaliz  (None, 14, 14, 512)      2048      \n",
      " ation)                                                          \n",
      "                                                                 \n",
      " conv_dw_7_relu (ReLU)       (None, 14, 14, 512)       0         \n",
      "                                                                 \n",
      " conv_pw_7 (Conv2D)          (None, 14, 14, 512)       262144    \n",
      "                                                                 \n",
      " conv_pw_7_bn (BatchNormaliz  (None, 14, 14, 512)      2048      \n",
      " ation)                                                          \n",
      "                                                                 \n",
      " conv_pw_7_relu (ReLU)       (None, 14, 14, 512)       0         \n",
      "                                                                 \n",
      " conv_dw_8 (DepthwiseConv2D)  (None, 14, 14, 512)      4608      \n",
      "                                                                 \n",
      " conv_dw_8_bn (BatchNormaliz  (None, 14, 14, 512)      2048      \n",
      " ation)                                                          \n",
      "                                                                 \n",
      " conv_dw_8_relu (ReLU)       (None, 14, 14, 512)       0         \n",
      "                                                                 \n",
      " conv_pw_8 (Conv2D)          (None, 14, 14, 512)       262144    \n",
      "                                                                 \n",
      " conv_pw_8_bn (BatchNormaliz  (None, 14, 14, 512)      2048      \n",
      " ation)                                                          \n",
      "                                                                 \n",
      " conv_pw_8_relu (ReLU)       (None, 14, 14, 512)       0         \n",
      "                                                                 \n",
      " conv_dw_9 (DepthwiseConv2D)  (None, 14, 14, 512)      4608      \n",
      "                                                                 \n",
      " conv_dw_9_bn (BatchNormaliz  (None, 14, 14, 512)      2048      \n",
      " ation)                                                          \n",
      "                                                                 \n",
      " conv_dw_9_relu (ReLU)       (None, 14, 14, 512)       0         \n",
      "                                                                 \n",
      " conv_pw_9 (Conv2D)          (None, 14, 14, 512)       262144    \n",
      "                                                                 \n",
      " conv_pw_9_bn (BatchNormaliz  (None, 14, 14, 512)      2048      \n",
      " ation)                                                          \n",
      "                                                                 \n",
      " conv_pw_9_relu (ReLU)       (None, 14, 14, 512)       0         \n",
      "                                                                 \n",
      " conv_dw_10 (DepthwiseConv2D  (None, 14, 14, 512)      4608      \n",
      " )                                                               \n",
      "                                                                 \n",
      " conv_dw_10_bn (BatchNormali  (None, 14, 14, 512)      2048      \n",
      " zation)                                                         \n",
      "                                                                 \n",
      " conv_dw_10_relu (ReLU)      (None, 14, 14, 512)       0         \n",
      "                                                                 \n",
      " conv_pw_10 (Conv2D)         (None, 14, 14, 512)       262144    \n",
      "                                                                 \n",
      " conv_pw_10_bn (BatchNormali  (None, 14, 14, 512)      2048      \n",
      " zation)                                                         \n",
      "                                                                 \n",
      " conv_pw_10_relu (ReLU)      (None, 14, 14, 512)       0         \n",
      "                                                                 \n",
      " conv_dw_11 (DepthwiseConv2D  (None, 14, 14, 512)      4608      \n",
      " )                                                               \n",
      "                                                                 \n",
      " conv_dw_11_bn (BatchNormali  (None, 14, 14, 512)      2048      \n",
      " zation)                                                         \n",
      "                                                                 \n",
      " conv_dw_11_relu (ReLU)      (None, 14, 14, 512)       0         \n",
      "                                                                 \n",
      " conv_pw_11 (Conv2D)         (None, 14, 14, 512)       262144    \n",
      "                                                                 \n",
      " conv_pw_11_bn (BatchNormali  (None, 14, 14, 512)      2048      \n",
      " zation)                                                         \n",
      "                                                                 \n",
      " conv_pw_11_relu (ReLU)      (None, 14, 14, 512)       0         \n",
      "                                                                 \n",
      " conv_pad_12 (ZeroPadding2D)  (None, 15, 15, 512)      0         \n",
      "                                                                 \n",
      " conv_dw_12 (DepthwiseConv2D  (None, 7, 7, 512)        4608      \n",
      " )                                                               \n",
      "                                                                 \n",
      " conv_dw_12_bn (BatchNormali  (None, 7, 7, 512)        2048      \n",
      " zation)                                                         \n",
      "                                                                 \n",
      " conv_dw_12_relu (ReLU)      (None, 7, 7, 512)         0         \n",
      "                                                                 \n",
      " conv_pw_12 (Conv2D)         (None, 7, 7, 1024)        524288    \n",
      "                                                                 \n",
      " conv_pw_12_bn (BatchNormali  (None, 7, 7, 1024)       4096      \n",
      " zation)                                                         \n",
      "                                                                 \n",
      " conv_pw_12_relu (ReLU)      (None, 7, 7, 1024)        0         \n",
      "                                                                 \n",
      " conv_dw_13 (DepthwiseConv2D  (None, 7, 7, 1024)       9216      \n",
      " )                                                               \n",
      "                                                                 \n",
      " conv_dw_13_bn (BatchNormali  (None, 7, 7, 1024)       4096      \n",
      " zation)                                                         \n",
      "                                                                 \n",
      " conv_dw_13_relu (ReLU)      (None, 7, 7, 1024)        0         \n",
      "                                                                 \n",
      " conv_pw_13 (Conv2D)         (None, 7, 7, 1024)        1048576   \n",
      "                                                                 \n",
      " conv_pw_13_bn (BatchNormali  (None, 7, 7, 1024)       4096      \n",
      " zation)                                                         \n",
      "                                                                 \n",
      " conv_pw_13_relu (ReLU)      (None, 7, 7, 1024)        0         \n",
      "                                                                 \n",
      " global_average_pooling2d (G  (None, 1024)             0         \n",
      " lobalAveragePooling2D)                                          \n",
      "                                                                 \n",
      " dense (Dense)               (None, 1024)              1049600   \n",
      "                                                                 \n",
      " dense_1 (Dense)             (None, 1024)              1049600   \n",
      "                                                                 \n",
      " dense_2 (Dense)             (None, 512)               524800    \n",
      "                                                                 \n",
      " dense_3 (Dense)             (None, 7)                 3591      \n",
      "                                                                 \n",
      "=================================================================\n",
      "Total params: 5,856,455\n",
      "Trainable params: 5,834,567\n",
      "Non-trainable params: 21,888\n",
      "_________________________________________________________________\n"
     ]
    }
   ],
   "source": [
    "model.summary()"
   ]
  },
  {
   "cell_type": "code",
   "execution_count": null,
   "metadata": {
    "id": "6POT22-ySObT"
   },
   "outputs": [],
   "source": [
    "for layer in model.layers[:-5]:\n",
    "    layer.trainable = False"
   ]
  },
  {
   "cell_type": "code",
   "execution_count": null,
   "metadata": {
    "id": "r1HmgI8LEgfw"
   },
   "outputs": [],
   "source": [
    "model.compile(optimizer='Adam',loss='categorical_crossentropy',metrics=['accuracy'])"
   ]
  },
  {
   "cell_type": "code",
   "execution_count": null,
   "metadata": {
    "id": "gQmCiLmUFvfx"
   },
   "outputs": [],
   "source": [
    "step_size_train=train_batches.n//train_batch_size\n",
    "step_size_valid=valid_batches.n//train_batch_size"
   ]
  },
  {
   "cell_type": "code",
   "execution_count": null,
   "metadata": {
    "colab": {
     "base_uri": "https://localhost:8080/"
    },
    "id": "TxXYmi5QJwuW",
    "outputId": "5cdab42d-e1fe-4608-a2f9-09b57e92e907"
   },
   "outputs": [
    {
     "metadata": {
      "tags": null
     },
     "name": "stdout",
     "output_type": "stream",
     "text": [
      "Epoch 1/40\n",
      "200/200 [==============================] - 1946s 10s/step - loss: 0.8694 - accuracy: 0.7013 - val_loss: 0.7078 - val_accuracy: 0.7362\n",
      "Epoch 2/40\n",
      "200/200 [==============================] - 93s 467ms/step - loss: 0.6581 - accuracy: 0.7659 - val_loss: 0.6407 - val_accuracy: 0.7744\n",
      "Epoch 3/40\n",
      "200/200 [==============================] - 90s 450ms/step - loss: 0.5850 - accuracy: 0.7883 - val_loss: 0.6449 - val_accuracy: 0.7625\n",
      "Epoch 4/40\n",
      "200/200 [==============================] - 89s 446ms/step - loss: 0.5012 - accuracy: 0.8162 - val_loss: 0.6606 - val_accuracy: 0.7825\n",
      "Epoch 5/40\n",
      "200/200 [==============================] - 89s 447ms/step - loss: 0.4486 - accuracy: 0.8358 - val_loss: 0.6861 - val_accuracy: 0.7713\n",
      "Epoch 6/40\n",
      "200/200 [==============================] - 88s 440ms/step - loss: 0.3794 - accuracy: 0.8612 - val_loss: 0.6561 - val_accuracy: 0.7688\n",
      "Epoch 7/40\n",
      "200/200 [==============================] - 89s 448ms/step - loss: 0.3160 - accuracy: 0.8813 - val_loss: 0.8354 - val_accuracy: 0.7337\n",
      "Epoch 8/40\n",
      "200/200 [==============================] - 88s 438ms/step - loss: 0.2688 - accuracy: 0.9042 - val_loss: 0.6800 - val_accuracy: 0.7850\n",
      "Epoch 9/40\n",
      "200/200 [==============================] - 88s 440ms/step - loss: 0.2292 - accuracy: 0.9128 - val_loss: 0.8552 - val_accuracy: 0.7625\n",
      "Epoch 10/40\n",
      "200/200 [==============================] - 88s 440ms/step - loss: 0.1872 - accuracy: 0.9293 - val_loss: 0.8993 - val_accuracy: 0.7669\n",
      "Epoch 11/40\n",
      "200/200 [==============================] - 88s 442ms/step - loss: 0.1605 - accuracy: 0.9417 - val_loss: 0.9298 - val_accuracy: 0.7856\n",
      "Epoch 12/40\n",
      "200/200 [==============================] - 87s 436ms/step - loss: 0.1462 - accuracy: 0.9429 - val_loss: 1.2416 - val_accuracy: 0.7631\n",
      "Epoch 13/40\n",
      "200/200 [==============================] - 89s 443ms/step - loss: 0.1534 - accuracy: 0.9451 - val_loss: 1.0463 - val_accuracy: 0.7763\n",
      "Epoch 14/40\n",
      "200/200 [==============================] - 88s 438ms/step - loss: 0.1093 - accuracy: 0.9592 - val_loss: 1.0769 - val_accuracy: 0.7850\n",
      "Epoch 15/40\n",
      "200/200 [==============================] - 89s 447ms/step - loss: 0.1099 - accuracy: 0.9627 - val_loss: 1.2256 - val_accuracy: 0.7769\n",
      "Epoch 16/40\n",
      "200/200 [==============================] - 89s 444ms/step - loss: 0.1268 - accuracy: 0.9556 - val_loss: 1.1407 - val_accuracy: 0.8006\n",
      "Epoch 17/40\n",
      "200/200 [==============================] - 88s 440ms/step - loss: 0.0883 - accuracy: 0.9729 - val_loss: 1.1496 - val_accuracy: 0.7812\n",
      "Epoch 18/40\n",
      "200/200 [==============================] - 89s 443ms/step - loss: 0.0638 - accuracy: 0.9774 - val_loss: 1.2062 - val_accuracy: 0.7837\n",
      "Epoch 19/40\n",
      "200/200 [==============================] - 88s 442ms/step - loss: 0.0727 - accuracy: 0.9741 - val_loss: 1.1077 - val_accuracy: 0.7844\n",
      "Epoch 20/40\n",
      "200/200 [==============================] - 87s 436ms/step - loss: 0.0580 - accuracy: 0.9788 - val_loss: 1.4481 - val_accuracy: 0.7831\n",
      "Epoch 21/40\n",
      "200/200 [==============================] - 88s 441ms/step - loss: 0.0734 - accuracy: 0.9766 - val_loss: 1.3728 - val_accuracy: 0.7856\n",
      "Epoch 22/40\n",
      "200/200 [==============================] - 87s 437ms/step - loss: 0.0616 - accuracy: 0.9799 - val_loss: 1.1096 - val_accuracy: 0.7825\n",
      "Epoch 23/40\n",
      "200/200 [==============================] - 88s 438ms/step - loss: 0.0535 - accuracy: 0.9837 - val_loss: 1.3783 - val_accuracy: 0.7756\n",
      "Epoch 24/40\n",
      "200/200 [==============================] - 88s 441ms/step - loss: 0.0646 - accuracy: 0.9796 - val_loss: 1.3823 - val_accuracy: 0.7925\n",
      "Epoch 25/40\n",
      "200/200 [==============================] - 87s 437ms/step - loss: 0.0422 - accuracy: 0.9864 - val_loss: 1.4433 - val_accuracy: 0.7862\n",
      "Epoch 26/40\n",
      "200/200 [==============================] - 87s 435ms/step - loss: 0.0456 - accuracy: 0.9859 - val_loss: 1.5154 - val_accuracy: 0.7756\n",
      "Epoch 27/40\n",
      "200/200 [==============================] - 87s 436ms/step - loss: 0.0501 - accuracy: 0.9845 - val_loss: 1.4543 - val_accuracy: 0.7669\n",
      "Epoch 28/40\n",
      "200/200 [==============================] - 88s 440ms/step - loss: 0.0696 - accuracy: 0.9787 - val_loss: 1.1814 - val_accuracy: 0.7844\n",
      "Epoch 29/40\n",
      "200/200 [==============================] - 87s 435ms/step - loss: 0.0517 - accuracy: 0.9832 - val_loss: 1.2818 - val_accuracy: 0.7744\n",
      "Epoch 30/40\n",
      "200/200 [==============================] - 88s 438ms/step - loss: 0.0376 - accuracy: 0.9871 - val_loss: 1.3757 - val_accuracy: 0.7931\n",
      "Epoch 31/40\n",
      "200/200 [==============================] - 87s 437ms/step - loss: 0.0454 - accuracy: 0.9846 - val_loss: 1.3286 - val_accuracy: 0.7950\n",
      "Epoch 32/40\n",
      "200/200 [==============================] - 88s 438ms/step - loss: 0.0300 - accuracy: 0.9890 - val_loss: 1.4095 - val_accuracy: 0.7794\n",
      "Epoch 33/40\n",
      "200/200 [==============================] - 89s 446ms/step - loss: 0.0406 - accuracy: 0.9859 - val_loss: 1.5309 - val_accuracy: 0.7656\n",
      "Epoch 34/40\n",
      "200/200 [==============================] - 88s 439ms/step - loss: 0.0208 - accuracy: 0.9936 - val_loss: 1.5740 - val_accuracy: 0.7869\n",
      "Epoch 35/40\n",
      "200/200 [==============================] - 89s 443ms/step - loss: 0.0560 - accuracy: 0.9813 - val_loss: 1.3511 - val_accuracy: 0.7844\n",
      "Epoch 36/40\n",
      "200/200 [==============================] - 87s 438ms/step - loss: 0.0336 - accuracy: 0.9887 - val_loss: 1.3042 - val_accuracy: 0.7750\n",
      "Epoch 37/40\n",
      "200/200 [==============================] - 88s 440ms/step - loss: 0.0340 - accuracy: 0.9893 - val_loss: 1.4464 - val_accuracy: 0.7825\n",
      "Epoch 38/40\n",
      "200/200 [==============================] - 89s 445ms/step - loss: 0.0683 - accuracy: 0.9793 - val_loss: 1.4543 - val_accuracy: 0.7625\n",
      "Epoch 39/40\n",
      "200/200 [==============================] - 87s 434ms/step - loss: 0.0338 - accuracy: 0.9893 - val_loss: 1.4485 - val_accuracy: 0.7944\n",
      "Epoch 40/40\n",
      "200/200 [==============================] - 87s 437ms/step - loss: 0.0442 - accuracy: 0.9859 - val_loss: 1.3586 - val_accuracy: 0.7887\n"
     ]
    },
    {
     "data": {
      "text/plain": [
       "<keras.callbacks.History at 0x7f1e700f6fd0>"
      ]
     },
     "execution_count": 14,
     "metadata": {},
     "output_type": "execute_result"
    }
   ],
   "source": [
    "model.fit(train_batches,\n",
    "          steps_per_epoch=step_size_train,\n",
    "          validation_data=valid_batches,\n",
    "          validation_batch_size=train_batch_size,\n",
    "\t        validation_steps=valid_batches.n//train_batch_size,\n",
    "          epochs=40,\n",
    "      )"
   ]
  },
  {
   "cell_type": "markdown",
   "metadata": {
    "id": "xr6mdK0_La5D"
   },
   "source": [
    "***Prediction***"
   ]
  },
  {
   "cell_type": "code",
   "execution_count": null,
   "metadata": {
    "id": "7T5KQIj1BdMm"
   },
   "outputs": [],
   "source": [
    "model.save(\"/content/drive/MyDrive/Project/Models & Weights/full_mobilenet_model.h5\")"
   ]
  },
  {
   "cell_type": "code",
   "execution_count": null,
   "metadata": {
    "id": "SS_4UJFtd675"
   },
   "outputs": [],
   "source": [
    "true_train = train_batches.classes\n",
    "pred_train = model.predict(train_batches)\n",
    "pred_train = np.argmax(pred_train, axis=1)"
   ]
  },
  {
   "cell_type": "code",
   "execution_count": null,
   "metadata": {
    "id": "iY5XJIloeYZk"
   },
   "outputs": [],
   "source": [
    "from sklearn.metrics import confusion_matrix\n",
    "import seaborn as sns\n",
    "import matplotlib.pyplot as plt\n",
    "train_confusion_matrix = confusion_matrix(true_train, pred_train)"
   ]
  },
  {
   "cell_type": "code",
   "execution_count": null,
   "metadata": {
    "colab": {
     "base_uri": "https://localhost:8080/"
    },
    "id": "2ZeQyLoLejky",
    "outputId": "33af2369-45aa-4279-92bf-4ddcd6e0d6ec"
   },
   "outputs": [
    {
     "name": "stdout",
     "output_type": "stream",
     "text": [
      "[[  12    7   18    0   22  148    2]\n",
      " [   8   18   38    5   35  219    6]\n",
      " [  21   46   62    9   81  477    7]\n",
      " [   3    1    1    0   10   58    1]\n",
      " [  25   46   83    6   77  460   15]\n",
      " [ 141  211  475   52  465 2880   67]\n",
      " [   1    3   16    1   11   56    3]]\n"
     ]
    }
   ],
   "source": [
    "print(train_confusion_matrix)"
   ]
  }
 ],
 "metadata": {
  "accelerator": "GPU",
  "colab": {
   "collapsed_sections": [],
   "name": "Skin Lesion Diagnosis with MobileNet.ipynb",
   "provenance": []
  },
  "gpuClass": "standard",
  "kernelspec": {
   "display_name": "Python 3 (ipykernel)",
   "language": "python",
   "name": "python3"
  },
  "language_info": {
   "codemirror_mode": {
    "name": "ipython",
    "version": 3
   },
   "file_extension": ".py",
   "mimetype": "text/x-python",
   "name": "python",
   "nbconvert_exporter": "python",
   "pygments_lexer": "ipython3",
   "version": "3.9.12"
  }
 },
 "nbformat": 4,
 "nbformat_minor": 1
}
